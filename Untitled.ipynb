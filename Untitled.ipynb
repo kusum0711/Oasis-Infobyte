{
 "cells": [
  {
   "cell_type": "code",
   "execution_count": 229,
   "id": "74b42412",
   "metadata": {},
   "outputs": [],
   "source": [
    "import numpy as np\n",
    "import pandas as pd\n",
    "import seaborn as sns\n",
    "import matplotlib.pyplot as plt\n",
    "%matplotlib inline"
   ]
  },
  {
   "cell_type": "code",
   "execution_count": 230,
   "id": "4b228c65",
   "metadata": {},
   "outputs": [],
   "source": [
    "data = pd.read_csv('iris.csv')"
   ]
  },
  {
   "cell_type": "code",
   "execution_count": 231,
   "id": "bf904b61",
   "metadata": {},
   "outputs": [
    {
     "data": {
      "text/html": [
       "<div>\n",
       "<style scoped>\n",
       "    .dataframe tbody tr th:only-of-type {\n",
       "        vertical-align: middle;\n",
       "    }\n",
       "\n",
       "    .dataframe tbody tr th {\n",
       "        vertical-align: top;\n",
       "    }\n",
       "\n",
       "    .dataframe thead th {\n",
       "        text-align: right;\n",
       "    }\n",
       "</style>\n",
       "<table border=\"1\" class=\"dataframe\">\n",
       "  <thead>\n",
       "    <tr style=\"text-align: right;\">\n",
       "      <th></th>\n",
       "      <th>Id</th>\n",
       "      <th>SepalLengthCm</th>\n",
       "      <th>SepalWidthCm</th>\n",
       "      <th>PetalLengthCm</th>\n",
       "      <th>PetalWidthCm</th>\n",
       "      <th>Species</th>\n",
       "    </tr>\n",
       "  </thead>\n",
       "  <tbody>\n",
       "    <tr>\n",
       "      <th>0</th>\n",
       "      <td>1</td>\n",
       "      <td>5.1</td>\n",
       "      <td>3.5</td>\n",
       "      <td>1.4</td>\n",
       "      <td>0.2</td>\n",
       "      <td>Iris-setosa</td>\n",
       "    </tr>\n",
       "    <tr>\n",
       "      <th>1</th>\n",
       "      <td>2</td>\n",
       "      <td>4.9</td>\n",
       "      <td>3.0</td>\n",
       "      <td>1.4</td>\n",
       "      <td>0.2</td>\n",
       "      <td>Iris-setosa</td>\n",
       "    </tr>\n",
       "    <tr>\n",
       "      <th>2</th>\n",
       "      <td>3</td>\n",
       "      <td>4.7</td>\n",
       "      <td>3.2</td>\n",
       "      <td>1.3</td>\n",
       "      <td>0.2</td>\n",
       "      <td>Iris-setosa</td>\n",
       "    </tr>\n",
       "    <tr>\n",
       "      <th>3</th>\n",
       "      <td>4</td>\n",
       "      <td>4.6</td>\n",
       "      <td>3.1</td>\n",
       "      <td>1.5</td>\n",
       "      <td>0.2</td>\n",
       "      <td>Iris-setosa</td>\n",
       "    </tr>\n",
       "    <tr>\n",
       "      <th>4</th>\n",
       "      <td>5</td>\n",
       "      <td>5.0</td>\n",
       "      <td>3.6</td>\n",
       "      <td>1.4</td>\n",
       "      <td>0.2</td>\n",
       "      <td>Iris-setosa</td>\n",
       "    </tr>\n",
       "  </tbody>\n",
       "</table>\n",
       "</div>"
      ],
      "text/plain": [
       "   Id  SepalLengthCm  SepalWidthCm  PetalLengthCm  PetalWidthCm      Species\n",
       "0   1            5.1           3.5            1.4           0.2  Iris-setosa\n",
       "1   2            4.9           3.0            1.4           0.2  Iris-setosa\n",
       "2   3            4.7           3.2            1.3           0.2  Iris-setosa\n",
       "3   4            4.6           3.1            1.5           0.2  Iris-setosa\n",
       "4   5            5.0           3.6            1.4           0.2  Iris-setosa"
      ]
     },
     "execution_count": 231,
     "metadata": {},
     "output_type": "execute_result"
    }
   ],
   "source": [
    "data.head()"
   ]
  },
  {
   "cell_type": "code",
   "execution_count": 232,
   "id": "8ef86f69",
   "metadata": {},
   "outputs": [],
   "source": [
    "#Rename columns name\n",
    "\n",
    "data = data.rename(columns={'SepalLengthCm':'S_Length',\n",
    "                           'SepalWidthCm':'S_Width',\n",
    "                           'PetalLengthCm':'P_Length',\n",
    "                           'PetalWidthCm':'P_Width'})"
   ]
  },
  {
   "cell_type": "code",
   "execution_count": 233,
   "id": "aed462f6",
   "metadata": {},
   "outputs": [
    {
     "data": {
      "text/html": [
       "<div>\n",
       "<style scoped>\n",
       "    .dataframe tbody tr th:only-of-type {\n",
       "        vertical-align: middle;\n",
       "    }\n",
       "\n",
       "    .dataframe tbody tr th {\n",
       "        vertical-align: top;\n",
       "    }\n",
       "\n",
       "    .dataframe thead th {\n",
       "        text-align: right;\n",
       "    }\n",
       "</style>\n",
       "<table border=\"1\" class=\"dataframe\">\n",
       "  <thead>\n",
       "    <tr style=\"text-align: right;\">\n",
       "      <th></th>\n",
       "      <th>Id</th>\n",
       "      <th>S_Length</th>\n",
       "      <th>S_Width</th>\n",
       "      <th>P_Length</th>\n",
       "      <th>P_Width</th>\n",
       "      <th>Species</th>\n",
       "    </tr>\n",
       "  </thead>\n",
       "  <tbody>\n",
       "    <tr>\n",
       "      <th>0</th>\n",
       "      <td>1</td>\n",
       "      <td>5.1</td>\n",
       "      <td>3.5</td>\n",
       "      <td>1.4</td>\n",
       "      <td>0.2</td>\n",
       "      <td>Iris-setosa</td>\n",
       "    </tr>\n",
       "    <tr>\n",
       "      <th>1</th>\n",
       "      <td>2</td>\n",
       "      <td>4.9</td>\n",
       "      <td>3.0</td>\n",
       "      <td>1.4</td>\n",
       "      <td>0.2</td>\n",
       "      <td>Iris-setosa</td>\n",
       "    </tr>\n",
       "    <tr>\n",
       "      <th>2</th>\n",
       "      <td>3</td>\n",
       "      <td>4.7</td>\n",
       "      <td>3.2</td>\n",
       "      <td>1.3</td>\n",
       "      <td>0.2</td>\n",
       "      <td>Iris-setosa</td>\n",
       "    </tr>\n",
       "    <tr>\n",
       "      <th>3</th>\n",
       "      <td>4</td>\n",
       "      <td>4.6</td>\n",
       "      <td>3.1</td>\n",
       "      <td>1.5</td>\n",
       "      <td>0.2</td>\n",
       "      <td>Iris-setosa</td>\n",
       "    </tr>\n",
       "    <tr>\n",
       "      <th>4</th>\n",
       "      <td>5</td>\n",
       "      <td>5.0</td>\n",
       "      <td>3.6</td>\n",
       "      <td>1.4</td>\n",
       "      <td>0.2</td>\n",
       "      <td>Iris-setosa</td>\n",
       "    </tr>\n",
       "  </tbody>\n",
       "</table>\n",
       "</div>"
      ],
      "text/plain": [
       "   Id  S_Length  S_Width  P_Length  P_Width      Species\n",
       "0   1       5.1      3.5       1.4      0.2  Iris-setosa\n",
       "1   2       4.9      3.0       1.4      0.2  Iris-setosa\n",
       "2   3       4.7      3.2       1.3      0.2  Iris-setosa\n",
       "3   4       4.6      3.1       1.5      0.2  Iris-setosa\n",
       "4   5       5.0      3.6       1.4      0.2  Iris-setosa"
      ]
     },
     "execution_count": 233,
     "metadata": {},
     "output_type": "execute_result"
    }
   ],
   "source": [
    "data.head()"
   ]
  },
  {
   "cell_type": "code",
   "execution_count": 234,
   "id": "b1326a70",
   "metadata": {},
   "outputs": [
    {
     "data": {
      "text/plain": [
       "Id          0\n",
       "S_Length    0\n",
       "S_Width     0\n",
       "P_Length    0\n",
       "P_Width     0\n",
       "Species     0\n",
       "dtype: int64"
      ]
     },
     "execution_count": 234,
     "metadata": {},
     "output_type": "execute_result"
    }
   ],
   "source": [
    "#checking null vales\n",
    "\n",
    "data.isnull().sum()"
   ]
  },
  {
   "cell_type": "code",
   "execution_count": 235,
   "id": "302146ac",
   "metadata": {},
   "outputs": [
    {
     "data": {
      "text/plain": [
       "Iris-setosa        50\n",
       "Iris-versicolor    50\n",
       "Iris-virginica     50\n",
       "Name: Species, dtype: int64"
      ]
     },
     "execution_count": 235,
     "metadata": {},
     "output_type": "execute_result"
    }
   ],
   "source": [
    "#checking if data is biased or not\n",
    "    \n",
    "data['Species'].value_counts()"
   ]
  },
  {
   "cell_type": "code",
   "execution_count": 236,
   "id": "f89eeeb0",
   "metadata": {},
   "outputs": [
    {
     "data": {
      "text/html": [
       "<div>\n",
       "<style scoped>\n",
       "    .dataframe tbody tr th:only-of-type {\n",
       "        vertical-align: middle;\n",
       "    }\n",
       "\n",
       "    .dataframe tbody tr th {\n",
       "        vertical-align: top;\n",
       "    }\n",
       "\n",
       "    .dataframe thead th {\n",
       "        text-align: right;\n",
       "    }\n",
       "</style>\n",
       "<table border=\"1\" class=\"dataframe\">\n",
       "  <thead>\n",
       "    <tr style=\"text-align: right;\">\n",
       "      <th></th>\n",
       "      <th>Id</th>\n",
       "      <th>S_Length</th>\n",
       "      <th>S_Width</th>\n",
       "      <th>P_Length</th>\n",
       "      <th>P_Width</th>\n",
       "    </tr>\n",
       "  </thead>\n",
       "  <tbody>\n",
       "    <tr>\n",
       "      <th>count</th>\n",
       "      <td>150.000000</td>\n",
       "      <td>150.000000</td>\n",
       "      <td>150.000000</td>\n",
       "      <td>150.000000</td>\n",
       "      <td>150.000000</td>\n",
       "    </tr>\n",
       "    <tr>\n",
       "      <th>mean</th>\n",
       "      <td>75.500000</td>\n",
       "      <td>5.843333</td>\n",
       "      <td>3.054000</td>\n",
       "      <td>3.758667</td>\n",
       "      <td>1.198667</td>\n",
       "    </tr>\n",
       "    <tr>\n",
       "      <th>std</th>\n",
       "      <td>43.445368</td>\n",
       "      <td>0.828066</td>\n",
       "      <td>0.433594</td>\n",
       "      <td>1.764420</td>\n",
       "      <td>0.763161</td>\n",
       "    </tr>\n",
       "    <tr>\n",
       "      <th>min</th>\n",
       "      <td>1.000000</td>\n",
       "      <td>4.300000</td>\n",
       "      <td>2.000000</td>\n",
       "      <td>1.000000</td>\n",
       "      <td>0.100000</td>\n",
       "    </tr>\n",
       "    <tr>\n",
       "      <th>25%</th>\n",
       "      <td>38.250000</td>\n",
       "      <td>5.100000</td>\n",
       "      <td>2.800000</td>\n",
       "      <td>1.600000</td>\n",
       "      <td>0.300000</td>\n",
       "    </tr>\n",
       "    <tr>\n",
       "      <th>50%</th>\n",
       "      <td>75.500000</td>\n",
       "      <td>5.800000</td>\n",
       "      <td>3.000000</td>\n",
       "      <td>4.350000</td>\n",
       "      <td>1.300000</td>\n",
       "    </tr>\n",
       "    <tr>\n",
       "      <th>75%</th>\n",
       "      <td>112.750000</td>\n",
       "      <td>6.400000</td>\n",
       "      <td>3.300000</td>\n",
       "      <td>5.100000</td>\n",
       "      <td>1.800000</td>\n",
       "    </tr>\n",
       "    <tr>\n",
       "      <th>max</th>\n",
       "      <td>150.000000</td>\n",
       "      <td>7.900000</td>\n",
       "      <td>4.400000</td>\n",
       "      <td>6.900000</td>\n",
       "      <td>2.500000</td>\n",
       "    </tr>\n",
       "  </tbody>\n",
       "</table>\n",
       "</div>"
      ],
      "text/plain": [
       "               Id    S_Length     S_Width    P_Length     P_Width\n",
       "count  150.000000  150.000000  150.000000  150.000000  150.000000\n",
       "mean    75.500000    5.843333    3.054000    3.758667    1.198667\n",
       "std     43.445368    0.828066    0.433594    1.764420    0.763161\n",
       "min      1.000000    4.300000    2.000000    1.000000    0.100000\n",
       "25%     38.250000    5.100000    2.800000    1.600000    0.300000\n",
       "50%     75.500000    5.800000    3.000000    4.350000    1.300000\n",
       "75%    112.750000    6.400000    3.300000    5.100000    1.800000\n",
       "max    150.000000    7.900000    4.400000    6.900000    2.500000"
      ]
     },
     "execution_count": 236,
     "metadata": {},
     "output_type": "execute_result"
    }
   ],
   "source": [
    "# checking statistical features\n",
    "\n",
    "data.describe()"
   ]
  },
  {
   "cell_type": "markdown",
   "id": "ea061549",
   "metadata": {},
   "source": [
    "# Visualization"
   ]
  },
  {
   "cell_type": "markdown",
   "id": "8e1cb83b",
   "metadata": {},
   "source": [
    "## Scatterplot"
   ]
  },
  {
   "cell_type": "code",
   "execution_count": 237,
   "id": "2f233818",
   "metadata": {},
   "outputs": [
    {
     "data": {
      "text/plain": [
       "<seaborn.axisgrid.FacetGrid at 0x176ca209af0>"
      ]
     },
     "execution_count": 237,
     "metadata": {},
     "output_type": "execute_result"
    },
    {
     "data": {
      "image/png": "[encoded data removed]",
      "text/plain": [
       "<Figure size 535.25x432 with 1 Axes>"
      ]
     },
     "metadata": {
      "needs_background": "light"
     },
     "output_type": "display_data"
    }
   ],
   "source": [
    "sns.FacetGrid(data, hue=\"Species\",height=6).map(plt.scatter,\"P_Length\",\"S_Width\").add_legend()"
   ]
  },
  {
   "cell_type": "markdown",
   "id": "27337b91",
   "metadata": {},
   "source": [
    "## Pairplot"
   ]
  },
  {
   "cell_type": "code",
   "execution_count": 238,
   "id": "7fadf842",
   "metadata": {},
   "outputs": [
    {
     "data": {
      "text/plain": [
       "<seaborn.axisgrid.PairGrid at 0x176ca439a30>"
      ]
     },
     "execution_count": 238,
     "metadata": {},
     "output_type": "execute_result"
    },
    {
     "data": {
      "image/png": "[encoded data removed]",
      "text/plain": [
       "<Figure size 823.25x720 with 20 Axes>"
      ]
     },
     "metadata": {
      "needs_background": "light"
     },
     "output_type": "display_data"
    }
   ],
   "source": [
    "# visualize the whole dataset\n",
    "sns.pairplot(data[['S_Length','S_Width','P_Length','P_Width','Species']], hue=\"Species\",diag_kind='kde')"
   ]
  },
  {
   "cell_type": "markdown",
   "id": "86dbf169",
   "metadata": {},
   "source": [
    "# SEPARATING INPUT COLUMNS AND THE OUTPUT COLUMNS"
   ]
  },
  {
   "cell_type": "code",
   "execution_count": 239,
   "id": "7a40bba0",
   "metadata": {},
   "outputs": [],
   "source": [
    "# Separate features and target\n",
    "iris=data.values\n",
    "\n",
    "# slicing the matrices\n",
    "X=iris[:,0:4]\n",
    "Y=iris[:,5]\n"
   ]
  },
  {
   "cell_type": "code",
   "execution_count": 240,
   "id": "64a03805",
   "metadata": {},
   "outputs": [
    {
     "name": "stdout",
     "output_type": "stream",
     "text": [
      "(150, 4)\n",
      "[[1 5.1 3.5 1.4]\n",
      " [2 4.9 3.0 1.4]\n",
      " [3 4.7 3.2 1.3]\n",
      " [4 4.6 3.1 1.5]\n",
      " [5 5.0 3.6 1.4]\n",
      " [6 5.4 3.9 1.7]\n",
      " [7 4.6 3.4 1.4]\n",
      " [8 5.0 3.4 1.5]\n",
      " [9 4.4 2.9 1.4]\n",
      " [10 4.9 3.1 1.5]\n",
      " [11 5.4 3.7 1.5]\n",
      " [12 4.8 3.4 1.6]\n",
      " [13 4.8 3.0 1.4]\n",
      " [14 4.3 3.0 1.1]\n",
      " [15 5.8 4.0 1.2]\n",
      " [16 5.7 4.4 1.5]\n",
      " [17 5.4 3.9 1.3]\n",
      " [18 5.1 3.5 1.4]\n",
      " [19 5.7 3.8 1.7]\n",
      " [20 5.1 3.8 1.5]\n",
      " [21 5.4 3.4 1.7]\n",
      " [22 5.1 3.7 1.5]\n",
      " [23 4.6 3.6 1.0]\n",
      " [24 5.1 3.3 1.7]\n",
      " [25 4.8 3.4 1.9]\n",
      " [26 5.0 3.0 1.6]\n",
      " [27 5.0 3.4 1.6]\n",
      " [28 5.2 3.5 1.5]\n",
      " [29 5.2 3.4 1.4]\n",
      " [30 4.7 3.2 1.6]\n",
      " [31 4.8 3.1 1.6]\n",
      " [32 5.4 3.4 1.5]\n",
      " [33 5.2 4.1 1.5]\n",
      " [34 5.5 4.2 1.4]\n",
      " [35 4.9 3.1 1.5]\n",
      " [36 5.0 3.2 1.2]\n",
      " [37 5.5 3.5 1.3]\n",
      " [38 4.9 3.1 1.5]\n",
      " [39 4.4 3.0 1.3]\n",
      " [40 5.1 3.4 1.5]\n",
      " [41 5.0 3.5 1.3]\n",
      " [42 4.5 2.3 1.3]\n",
      " [43 4.4 3.2 1.3]\n",
      " [44 5.0 3.5 1.6]\n",
      " [45 5.1 3.8 1.9]\n",
      " [46 4.8 3.0 1.4]\n",
      " [47 5.1 3.8 1.6]\n",
      " [48 4.6 3.2 1.4]\n",
      " [49 5.3 3.7 1.5]\n",
      " [50 5.0 3.3 1.4]\n",
      " [51 7.0 3.2 4.7]\n",
      " [52 6.4 3.2 4.5]\n",
      " [53 6.9 3.1 4.9]\n",
      " [54 5.5 2.3 4.0]\n",
      " [55 6.5 2.8 4.6]\n",
      " [56 5.7 2.8 4.5]\n",
      " [57 6.3 3.3 4.7]\n",
      " [58 4.9 2.4 3.3]\n",
      " [59 6.6 2.9 4.6]\n",
      " [60 5.2 2.7 3.9]\n",
      " [61 5.0 2.0 3.5]\n",
      " [62 5.9 3.0 4.2]\n",
      " [63 6.0 2.2 4.0]\n",
      " [64 6.1 2.9 4.7]\n",
      " [65 5.6 2.9 3.6]\n",
      " [66 6.7 3.1 4.4]\n",
      " [67 5.6 3.0 4.5]\n",
      " [68 5.8 2.7 4.1]\n",
      " [69 6.2 2.2 4.5]\n",
      " [70 5.6 2.5 3.9]\n",
      " [71 5.9 3.2 4.8]\n",
      " [72 6.1 2.8 4.0]\n",
      " [73 6.3 2.5 4.9]\n",
      " [74 6.1 2.8 4.7]\n",
      " [75 6.4 2.9 4.3]\n",
      " [76 6.6 3.0 4.4]\n",
      " [77 6.8 2.8 4.8]\n",
      " [78 6.7 3.0 5.0]\n",
      " [79 6.0 2.9 4.5]\n",
      " [80 5.7 2.6 3.5]\n",
      " [81 5.5 2.4 3.8]\n",
      " [82 5.5 2.4 3.7]\n",
      " [83 5.8 2.7 3.9]\n",
      " [84 6.0 2.7 5.1]\n",
      " [85 5.4 3.0 4.5]\n",
      " [86 6.0 3.4 4.5]\n",
      " [87 6.7 3.1 4.7]\n",
      " [88 6.3 2.3 4.4]\n",
      " [89 5.6 3.0 4.1]\n",
      " [90 5.5 2.5 4.0]\n",
      " [91 5.5 2.6 4.4]\n",
      " [92 6.1 3.0 4.6]\n",
      " [93 5.8 2.6 4.0]\n",
      " [94 5.0 2.3 3.3]\n",
      " [95 5.6 2.7 4.2]\n",
      " [96 5.7 3.0 4.2]\n",
      " [97 5.7 2.9 4.2]\n",
      " [98 6.2 2.9 4.3]\n",
      " [99 5.1 2.5 3.0]\n",
      " [100 5.7 2.8 4.1]\n",
      " [101 6.3 3.3 6.0]\n",
      " [102 5.8 2.7 5.1]\n",
      " [103 7.1 3.0 5.9]\n",
      " [104 6.3 2.9 5.6]\n",
      " [105 6.5 3.0 5.8]\n",
      " [106 7.6 3.0 6.6]\n",
      " [107 4.9 2.5 4.5]\n",
      " [108 7.3 2.9 6.3]\n",
      " [109 6.7 2.5 5.8]\n",
      " [110 7.2 3.6 6.1]\n",
      " [111 6.5 3.2 5.1]\n",
      " [112 6.4 2.7 5.3]\n",
      " [113 6.8 3.0 5.5]\n",
      " [114 5.7 2.5 5.0]\n",
      " [115 5.8 2.8 5.1]\n",
      " [116 6.4 3.2 5.3]\n",
      " [117 6.5 3.0 5.5]\n",
      " [118 7.7 3.8 6.7]\n",
      " [119 7.7 2.6 6.9]\n",
      " [120 6.0 2.2 5.0]\n",
      " [121 6.9 3.2 5.7]\n",
      " [122 5.6 2.8 4.9]\n",
      " [123 7.7 2.8 6.7]\n",
      " [124 6.3 2.7 4.9]\n",
      " [125 6.7 3.3 5.7]\n",
      " [126 7.2 3.2 6.0]\n",
      " [127 6.2 2.8 4.8]\n",
      " [128 6.1 3.0 4.9]\n",
      " [129 6.4 2.8 5.6]\n",
      " [130 7.2 3.0 5.8]\n",
      " [131 7.4 2.8 6.1]\n",
      " [132 7.9 3.8 6.4]\n",
      " [133 6.4 2.8 5.6]\n",
      " [134 6.3 2.8 5.1]\n",
      " [135 6.1 2.6 5.6]\n",
      " [136 7.7 3.0 6.1]\n",
      " [137 6.3 3.4 5.6]\n",
      " [138 6.4 3.1 5.5]\n",
      " [139 6.0 3.0 4.8]\n",
      " [140 6.9 3.1 5.4]\n",
      " [141 6.7 3.1 5.6]\n",
      " [142 6.9 3.1 5.1]\n",
      " [143 5.8 2.7 5.1]\n",
      " [144 6.8 3.2 5.9]\n",
      " [145 6.7 3.3 5.7]\n",
      " [146 6.7 3.0 5.2]\n",
      " [147 6.3 2.5 5.0]\n",
      " [148 6.5 3.0 5.2]\n",
      " [149 6.2 3.4 5.4]\n",
      " [150 5.9 3.0 5.1]]\n"
     ]
    }
   ],
   "source": [
    "print(X.shape)\n",
    "print(X)"
   ]
  },
  {
   "cell_type": "code",
   "execution_count": 241,
   "id": "b12fbf49",
   "metadata": {},
   "outputs": [
    {
     "name": "stdout",
     "output_type": "stream",
     "text": [
      "(150,)\n",
      "['Iris-setosa' 'Iris-setosa' 'Iris-setosa' 'Iris-setosa' 'Iris-setosa'\n",
      " 'Iris-setosa' 'Iris-setosa' 'Iris-setosa' 'Iris-setosa' 'Iris-setosa'\n",
      " 'Iris-setosa' 'Iris-setosa' 'Iris-setosa' 'Iris-setosa' 'Iris-setosa'\n",
      " 'Iris-setosa' 'Iris-setosa' 'Iris-setosa' 'Iris-setosa' 'Iris-setosa'\n",
      " 'Iris-setosa' 'Iris-setosa' 'Iris-setosa' 'Iris-setosa' 'Iris-setosa'\n",
      " 'Iris-setosa' 'Iris-setosa' 'Iris-setosa' 'Iris-setosa' 'Iris-setosa'\n",
      " 'Iris-setosa' 'Iris-setosa' 'Iris-setosa' 'Iris-setosa' 'Iris-setosa'\n",
      " 'Iris-setosa' 'Iris-setosa' 'Iris-setosa' 'Iris-setosa' 'Iris-setosa'\n",
      " 'Iris-setosa' 'Iris-setosa' 'Iris-setosa' 'Iris-setosa' 'Iris-setosa'\n",
      " 'Iris-setosa' 'Iris-setosa' 'Iris-setosa' 'Iris-setosa' 'Iris-setosa'\n",
      " 'Iris-versicolor' 'Iris-versicolor' 'Iris-versicolor' 'Iris-versicolor'\n",
      " 'Iris-versicolor' 'Iris-versicolor' 'Iris-versicolor' 'Iris-versicolor'\n",
      " 'Iris-versicolor' 'Iris-versicolor' 'Iris-versicolor' 'Iris-versicolor'\n",
      " 'Iris-versicolor' 'Iris-versicolor' 'Iris-versicolor' 'Iris-versicolor'\n",
      " 'Iris-versicolor' 'Iris-versicolor' 'Iris-versicolor' 'Iris-versicolor'\n",
      " 'Iris-versicolor' 'Iris-versicolor' 'Iris-versicolor' 'Iris-versicolor'\n",
      " 'Iris-versicolor' 'Iris-versicolor' 'Iris-versicolor' 'Iris-versicolor'\n",
      " 'Iris-versicolor' 'Iris-versicolor' 'Iris-versicolor' 'Iris-versicolor'\n",
      " 'Iris-versicolor' 'Iris-versicolor' 'Iris-versicolor' 'Iris-versicolor'\n",
      " 'Iris-versicolor' 'Iris-versicolor' 'Iris-versicolor' 'Iris-versicolor'\n",
      " 'Iris-versicolor' 'Iris-versicolor' 'Iris-versicolor' 'Iris-versicolor'\n",
      " 'Iris-versicolor' 'Iris-versicolor' 'Iris-versicolor' 'Iris-versicolor'\n",
      " 'Iris-versicolor' 'Iris-versicolor' 'Iris-virginica' 'Iris-virginica'\n",
      " 'Iris-virginica' 'Iris-virginica' 'Iris-virginica' 'Iris-virginica'\n",
      " 'Iris-virginica' 'Iris-virginica' 'Iris-virginica' 'Iris-virginica'\n",
      " 'Iris-virginica' 'Iris-virginica' 'Iris-virginica' 'Iris-virginica'\n",
      " 'Iris-virginica' 'Iris-virginica' 'Iris-virginica' 'Iris-virginica'\n",
      " 'Iris-virginica' 'Iris-virginica' 'Iris-virginica' 'Iris-virginica'\n",
      " 'Iris-virginica' 'Iris-virginica' 'Iris-virginica' 'Iris-virginica'\n",
      " 'Iris-virginica' 'Iris-virginica' 'Iris-virginica' 'Iris-virginica'\n",
      " 'Iris-virginica' 'Iris-virginica' 'Iris-virginica' 'Iris-virginica'\n",
      " 'Iris-virginica' 'Iris-virginica' 'Iris-virginica' 'Iris-virginica'\n",
      " 'Iris-virginica' 'Iris-virginica' 'Iris-virginica' 'Iris-virginica'\n",
      " 'Iris-virginica' 'Iris-virginica' 'Iris-virginica' 'Iris-virginica'\n",
      " 'Iris-virginica' 'Iris-virginica' 'Iris-virginica' 'Iris-virginica']\n"
     ]
    }
   ],
   "source": [
    "print(Y.shape)\n",
    "print(Y)"
   ]
  },
  {
   "cell_type": "markdown",
   "id": "a818f8b4",
   "metadata": {},
   "source": [
    "# SPLITTING DATA INTO TRAINING AND TESTING"
   ]
  },
  {
   "cell_type": "code",
   "execution_count": 242,
   "id": "0a4fd677",
   "metadata": {},
   "outputs": [],
   "source": [
    "from sklearn.model_selection import train_test_split\n",
    "X_train, X_test, Y_train, Y_test= train_test_split(X,Y, test_size=0.2)"
   ]
  },
  {
   "cell_type": "code",
   "execution_count": 243,
   "id": "9b08c9f1",
   "metadata": {},
   "outputs": [
    {
     "name": "stdout",
     "output_type": "stream",
     "text": [
      "(120, 4)\n",
      "[[3 4.7 3.2 1.3]\n",
      " [26 5.0 3.0 1.6]\n",
      " [53 6.9 3.1 4.9]\n",
      " [119 7.7 2.6 6.9]\n",
      " [18 5.1 3.5 1.4]\n",
      " [59 6.6 2.9 4.6]\n",
      " [135 6.1 2.6 5.6]\n",
      " [147 6.3 2.5 5.0]\n",
      " [65 5.6 2.9 3.6]\n",
      " [46 4.8 3.0 1.4]\n",
      " [129 6.4 2.8 5.6]\n",
      " [85 5.4 3.0 4.5]\n",
      " [56 5.7 2.8 4.5]\n",
      " [44 5.0 3.5 1.6]\n",
      " [139 6.0 3.0 4.8]\n",
      " [108 7.3 2.9 6.3]\n",
      " [39 4.4 3.0 1.3]\n",
      " [83 5.8 2.7 3.9]\n",
      " [93 5.8 2.6 4.0]\n",
      " [66 6.7 3.1 4.4]\n",
      " [57 6.3 3.3 4.7]\n",
      " [84 6.0 2.7 5.1]\n",
      " [118 7.7 3.8 6.7]\n",
      " [113 6.8 3.0 5.5]\n",
      " [100 5.7 2.8 4.1]\n",
      " [29 5.2 3.4 1.4]\n",
      " [133 6.4 2.8 5.6]\n",
      " [149 6.2 3.4 5.4]\n",
      " [5 5.0 3.6 1.4]\n",
      " [90 5.5 2.5 4.0]\n",
      " [103 7.1 3.0 5.9]\n",
      " [128 6.1 3.0 4.9]\n",
      " [81 5.5 2.4 3.8]\n",
      " [143 5.8 2.7 5.1]\n",
      " [40 5.1 3.4 1.5]\n",
      " [6 5.4 3.9 1.7]\n",
      " [77 6.8 2.8 4.8]\n",
      " [72 6.1 2.8 4.0]\n",
      " [146 6.7 3.0 5.2]\n",
      " [54 5.5 2.3 4.0]\n",
      " [80 5.7 2.6 3.5]\n",
      " [92 6.1 3.0 4.6]\n",
      " [69 6.2 2.2 4.5]\n",
      " [23 4.6 3.6 1.0]\n",
      " [96 5.7 3.0 4.2]\n",
      " [15 5.8 4.0 1.2]\n",
      " [42 4.5 2.3 1.3]\n",
      " [70 5.6 2.5 3.9]\n",
      " [86 6.0 3.4 4.5]\n",
      " [19 5.7 3.8 1.7]\n",
      " [134 6.3 2.8 5.1]\n",
      " [97 5.7 2.9 4.2]\n",
      " [20 5.1 3.8 1.5]\n",
      " [131 7.4 2.8 6.1]\n",
      " [132 7.9 3.8 6.4]\n",
      " [138 6.4 3.1 5.5]\n",
      " [115 5.8 2.8 5.1]\n",
      " [17 5.4 3.9 1.3]\n",
      " [101 6.3 3.3 6.0]\n",
      " [7 4.6 3.4 1.4]\n",
      " [140 6.9 3.1 5.4]\n",
      " [102 5.8 2.7 5.1]\n",
      " [10 4.9 3.1 1.5]\n",
      " [13 4.8 3.0 1.4]\n",
      " [45 5.1 3.8 1.9]\n",
      " [62 5.9 3.0 4.2]\n",
      " [130 7.2 3.0 5.8]\n",
      " [122 5.6 2.8 4.9]\n",
      " [136 7.7 3.0 6.1]\n",
      " [50 5.0 3.3 1.4]\n",
      " [75 6.4 2.9 4.3]\n",
      " [141 6.7 3.1 5.6]\n",
      " [25 4.8 3.4 1.9]\n",
      " [111 6.5 3.2 5.1]\n",
      " [21 5.4 3.4 1.7]\n",
      " [98 6.2 2.9 4.3]\n",
      " [63 6.0 2.2 4.0]\n",
      " [74 6.1 2.8 4.7]\n",
      " [144 6.8 3.2 5.9]\n",
      " [105 6.5 3.0 5.8]\n",
      " [107 4.9 2.5 4.5]\n",
      " [137 6.3 3.4 5.6]\n",
      " [79 6.0 2.9 4.5]\n",
      " [88 6.3 2.3 4.4]\n",
      " [106 7.6 3.0 6.6]\n",
      " [12 4.8 3.4 1.6]\n",
      " [2 4.9 3.0 1.4]\n",
      " [37 5.5 3.5 1.3]\n",
      " [78 6.7 3.0 5.0]\n",
      " [27 5.0 3.4 1.6]\n",
      " [36 5.0 3.2 1.2]\n",
      " [52 6.4 3.2 4.5]\n",
      " [109 6.7 2.5 5.8]\n",
      " [55 6.5 2.8 4.6]\n",
      " [61 5.0 2.0 3.5]\n",
      " [148 6.5 3.0 5.2]\n",
      " [110 7.2 3.6 6.1]\n",
      " [67 5.6 3.0 4.5]\n",
      " [82 5.5 2.4 3.7]\n",
      " [9 4.4 2.9 1.4]\n",
      " [91 5.5 2.6 4.4]\n",
      " [73 6.3 2.5 4.9]\n",
      " [64 6.1 2.9 4.7]\n",
      " [48 4.6 3.2 1.4]\n",
      " [94 5.0 2.3 3.3]\n",
      " [33 5.2 4.1 1.5]\n",
      " [124 6.3 2.7 4.9]\n",
      " [99 5.1 2.5 3.0]\n",
      " [114 5.7 2.5 5.0]\n",
      " [38 4.9 3.1 1.5]\n",
      " [22 5.1 3.7 1.5]\n",
      " [4 4.6 3.1 1.5]\n",
      " [120 6.0 2.2 5.0]\n",
      " [68 5.8 2.7 4.1]\n",
      " [49 5.3 3.7 1.5]\n",
      " [47 5.1 3.8 1.6]\n",
      " [11 5.4 3.7 1.5]\n",
      " [125 6.7 3.3 5.7]\n",
      " [60 5.2 2.7 3.9]\n",
      " [121 6.9 3.2 5.7]]\n"
     ]
    }
   ],
   "source": [
    "print(X_train.shape)\n",
    "print(X_train)"
   ]
  },
  {
   "cell_type": "code",
   "execution_count": 244,
   "id": "c8221a47",
   "metadata": {
    "scrolled": true
   },
   "outputs": [
    {
     "name": "stdout",
     "output_type": "stream",
     "text": [
      "(30,)\n",
      "['Iris-versicolor' 'Iris-setosa' 'Iris-setosa' 'Iris-virginica'\n",
      " 'Iris-versicolor' 'Iris-setosa' 'Iris-virginica' 'Iris-setosa'\n",
      " 'Iris-virginica' 'Iris-virginica' 'Iris-setosa' 'Iris-setosa'\n",
      " 'Iris-setosa' 'Iris-setosa' 'Iris-setosa' 'Iris-versicolor' 'Iris-setosa'\n",
      " 'Iris-virginica' 'Iris-setosa' 'Iris-setosa' 'Iris-virginica'\n",
      " 'Iris-versicolor' 'Iris-versicolor' 'Iris-virginica' 'Iris-virginica'\n",
      " 'Iris-virginica' 'Iris-versicolor' 'Iris-versicolor' 'Iris-virginica'\n",
      " 'Iris-setosa']\n"
     ]
    }
   ],
   "source": [
    "print(Y_test.shape)\n",
    "print(Y_test)"
   ]
  },
  {
   "cell_type": "code",
   "execution_count": 245,
   "id": "3cab8c8a",
   "metadata": {},
   "outputs": [
    {
     "name": "stdout",
     "output_type": "stream",
     "text": [
      "(30, 4)\n",
      "[[51 7.0 3.2 4.7]\n",
      " [24 5.1 3.3 1.7]\n",
      " [16 5.7 4.4 1.5]\n",
      " [150 5.9 3.0 5.1]\n",
      " [76 6.6 3.0 4.4]\n",
      " [28 5.2 3.5 1.5]\n",
      " [145 6.7 3.3 5.7]\n",
      " [35 4.9 3.1 1.5]\n",
      " [117 6.5 3.0 5.5]\n",
      " [104 6.3 2.9 5.6]\n",
      " [43 4.4 3.2 1.3]\n",
      " [34 5.5 4.2 1.4]\n",
      " [1 5.1 3.5 1.4]\n",
      " [41 5.0 3.5 1.3]\n",
      " [32 5.4 3.4 1.5]\n",
      " [58 4.9 2.4 3.3]\n",
      " [31 4.8 3.1 1.6]\n",
      " [126 7.2 3.2 6.0]\n",
      " [8 5.0 3.4 1.5]\n",
      " [14 4.3 3.0 1.1]\n",
      " [127 6.2 2.8 4.8]\n",
      " [71 5.9 3.2 4.8]\n",
      " [89 5.6 3.0 4.1]\n",
      " [112 6.4 2.7 5.3]\n",
      " [142 6.9 3.1 5.1]\n",
      " [116 6.4 3.2 5.3]\n",
      " [95 5.6 2.7 4.2]\n",
      " [87 6.7 3.1 4.7]\n",
      " [123 7.7 2.8 6.7]\n",
      " [30 4.7 3.2 1.6]]\n"
     ]
    }
   ],
   "source": [
    "print(X_test.shape)\n",
    "print(X_test)"
   ]
  },
  {
   "cell_type": "markdown",
   "id": "09c5b01f",
   "metadata": {},
   "source": [
    "# print(Y_train.shape)\n",
    "print(Y_train)"
   ]
  },
  {
   "cell_type": "markdown",
   "id": "8079b15b",
   "metadata": {},
   "source": [
    "# MODEL 1: SUPPORT VECTOR MACHINE ALGORITHM "
   ]
  },
  {
   "cell_type": "code",
   "execution_count": 246,
   "id": "0d87d325",
   "metadata": {},
   "outputs": [
    {
     "data": {
      "text/plain": [
       "SVC()"
      ]
     },
     "execution_count": 246,
     "metadata": {},
     "output_type": "execute_result"
    }
   ],
   "source": [
    "from sklearn.svm import SVC\n",
    "\n",
    "model_svc=SVC()\n",
    "model_svc.fit(X_train,Y_train)"
   ]
  },
  {
   "cell_type": "code",
   "execution_count": 247,
   "id": "8dee9539",
   "metadata": {},
   "outputs": [
    {
     "name": "stdout",
     "output_type": "stream",
     "text": [
      "1.0\n"
     ]
    }
   ],
   "source": [
    "prediction1 = model_svc.predict(X_test)\n",
    "\n",
    "#calculate the accuracy\n",
    "from sklearn.metrics import accuracy_score\n",
    "print(accuracy_score(Y_test, prediction1))"
   ]
  },
  {
   "cell_type": "markdown",
   "id": "395b1333",
   "metadata": {},
   "source": [
    "# MODEL 2: LOGISTIC REGRESSION"
   ]
  },
  {
   "cell_type": "code",
   "execution_count": 250,
   "id": "fae5a48e",
   "metadata": {},
   "outputs": [],
   "source": [
    "# converting categorical variables into numbers\n",
    "flower_mapping = {'Iris-setosa':0,'Iris-versicolor':1,'Iris-virginica':2}\n",
    "data['Species']=data['Species'].map(flower_mapping)  "
   ]
  },
  {
   "cell_type": "code",
   "execution_count": 254,
   "id": "8955c338",
   "metadata": {},
   "outputs": [
    {
     "data": {
      "text/html": [
       "<div>\n",
       "<style scoped>\n",
       "    .dataframe tbody tr th:only-of-type {\n",
       "        vertical-align: middle;\n",
       "    }\n",
       "\n",
       "    .dataframe tbody tr th {\n",
       "        vertical-align: top;\n",
       "    }\n",
       "\n",
       "    .dataframe thead th {\n",
       "        text-align: right;\n",
       "    }\n",
       "</style>\n",
       "<table border=\"1\" class=\"dataframe\">\n",
       "  <thead>\n",
       "    <tr style=\"text-align: right;\">\n",
       "      <th></th>\n",
       "      <th>Id</th>\n",
       "      <th>S_Length</th>\n",
       "      <th>S_Width</th>\n",
       "      <th>P_Length</th>\n",
       "      <th>P_Width</th>\n",
       "      <th>Species</th>\n",
       "    </tr>\n",
       "  </thead>\n",
       "  <tbody>\n",
       "    <tr>\n",
       "      <th>0</th>\n",
       "      <td>1</td>\n",
       "      <td>5.1</td>\n",
       "      <td>3.5</td>\n",
       "      <td>1.4</td>\n",
       "      <td>0.2</td>\n",
       "      <td>0</td>\n",
       "    </tr>\n",
       "    <tr>\n",
       "      <th>1</th>\n",
       "      <td>2</td>\n",
       "      <td>4.9</td>\n",
       "      <td>3.0</td>\n",
       "      <td>1.4</td>\n",
       "      <td>0.2</td>\n",
       "      <td>0</td>\n",
       "    </tr>\n",
       "    <tr>\n",
       "      <th>2</th>\n",
       "      <td>3</td>\n",
       "      <td>4.7</td>\n",
       "      <td>3.2</td>\n",
       "      <td>1.3</td>\n",
       "      <td>0.2</td>\n",
       "      <td>0</td>\n",
       "    </tr>\n",
       "    <tr>\n",
       "      <th>3</th>\n",
       "      <td>4</td>\n",
       "      <td>4.6</td>\n",
       "      <td>3.1</td>\n",
       "      <td>1.5</td>\n",
       "      <td>0.2</td>\n",
       "      <td>0</td>\n",
       "    </tr>\n",
       "    <tr>\n",
       "      <th>4</th>\n",
       "      <td>5</td>\n",
       "      <td>5.0</td>\n",
       "      <td>3.6</td>\n",
       "      <td>1.4</td>\n",
       "      <td>0.2</td>\n",
       "      <td>0</td>\n",
       "    </tr>\n",
       "  </tbody>\n",
       "</table>\n",
       "</div>"
      ],
      "text/plain": [
       "   Id  S_Length  S_Width  P_Length  P_Width  Species\n",
       "0   1       5.1      3.5       1.4      0.2        0\n",
       "1   2       4.9      3.0       1.4      0.2        0\n",
       "2   3       4.7      3.2       1.3      0.2        0\n",
       "3   4       4.6      3.1       1.5      0.2        0\n",
       "4   5       5.0      3.6       1.4      0.2        0"
      ]
     },
     "execution_count": 254,
     "metadata": {},
     "output_type": "execute_result"
    }
   ],
   "source": [
    "data.head()"
   ]
  },
  {
   "cell_type": "code",
   "execution_count": 252,
   "id": "38214a21",
   "metadata": {},
   "outputs": [
    {
     "data": {
      "text/html": [
       "<div>\n",
       "<style scoped>\n",
       "    .dataframe tbody tr th:only-of-type {\n",
       "        vertical-align: middle;\n",
       "    }\n",
       "\n",
       "    .dataframe tbody tr th {\n",
       "        vertical-align: top;\n",
       "    }\n",
       "\n",
       "    .dataframe thead th {\n",
       "        text-align: right;\n",
       "    }\n",
       "</style>\n",
       "<table border=\"1\" class=\"dataframe\">\n",
       "  <thead>\n",
       "    <tr style=\"text-align: right;\">\n",
       "      <th></th>\n",
       "      <th>Id</th>\n",
       "      <th>S_Length</th>\n",
       "      <th>S_Width</th>\n",
       "      <th>P_Length</th>\n",
       "      <th>P_Width</th>\n",
       "      <th>Species</th>\n",
       "    </tr>\n",
       "  </thead>\n",
       "  <tbody>\n",
       "    <tr>\n",
       "      <th>145</th>\n",
       "      <td>146</td>\n",
       "      <td>6.7</td>\n",
       "      <td>3.0</td>\n",
       "      <td>5.2</td>\n",
       "      <td>2.3</td>\n",
       "      <td>2</td>\n",
       "    </tr>\n",
       "    <tr>\n",
       "      <th>146</th>\n",
       "      <td>147</td>\n",
       "      <td>6.3</td>\n",
       "      <td>2.5</td>\n",
       "      <td>5.0</td>\n",
       "      <td>1.9</td>\n",
       "      <td>2</td>\n",
       "    </tr>\n",
       "    <tr>\n",
       "      <th>147</th>\n",
       "      <td>148</td>\n",
       "      <td>6.5</td>\n",
       "      <td>3.0</td>\n",
       "      <td>5.2</td>\n",
       "      <td>2.0</td>\n",
       "      <td>2</td>\n",
       "    </tr>\n",
       "    <tr>\n",
       "      <th>148</th>\n",
       "      <td>149</td>\n",
       "      <td>6.2</td>\n",
       "      <td>3.4</td>\n",
       "      <td>5.4</td>\n",
       "      <td>2.3</td>\n",
       "      <td>2</td>\n",
       "    </tr>\n",
       "    <tr>\n",
       "      <th>149</th>\n",
       "      <td>150</td>\n",
       "      <td>5.9</td>\n",
       "      <td>3.0</td>\n",
       "      <td>5.1</td>\n",
       "      <td>1.8</td>\n",
       "      <td>2</td>\n",
       "    </tr>\n",
       "  </tbody>\n",
       "</table>\n",
       "</div>"
      ],
      "text/plain": [
       "      Id  S_Length  S_Width  P_Length  P_Width  Species\n",
       "145  146       6.7      3.0       5.2      2.3        2\n",
       "146  147       6.3      2.5       5.0      1.9        2\n",
       "147  148       6.5      3.0       5.2      2.0        2\n",
       "148  149       6.2      3.4       5.4      2.3        2\n",
       "149  150       5.9      3.0       5.1      1.8        2"
      ]
     },
     "execution_count": 252,
     "metadata": {},
     "output_type": "execute_result"
    }
   ],
   "source": [
    "data.tail()"
   ]
  },
  {
   "cell_type": "code",
   "execution_count": 255,
   "id": "889c421f",
   "metadata": {},
   "outputs": [],
   "source": [
    "# preparing inputs and outputs\n",
    "\n",
    "X= data [['S_Length','S_Width','P_Length','P_Width']].values\n",
    "Y= data[['Species']].values"
   ]
  },
  {
   "cell_type": "code",
   "execution_count": 258,
   "id": "39440d0c",
   "metadata": {},
   "outputs": [
    {
     "name": "stderr",
     "output_type": "stream",
     "text": [
      "C:\\Users\\KUSUM\\anaconda3\\lib\\site-packages\\sklearn\\utils\\validation.py:63: DataConversionWarning: A column-vector y was passed when a 1d array was expected. Please change the shape of y to (n_samples, ), for example using ravel().\n",
      "  return f(*args, **kwargs)\n"
     ]
    },
    {
     "data": {
      "text/plain": [
       "LogisticRegression()"
      ]
     },
     "execution_count": 258,
     "metadata": {},
     "output_type": "execute_result"
    }
   ],
   "source": [
    "# LOGISTIC REGRESSION\n",
    "from sklearn.linear_model import LogisticRegression\n",
    "model= LogisticRegression()\n",
    "model.fit(X,Y)"
   ]
  },
  {
   "cell_type": "code",
   "execution_count": 259,
   "id": "7c1f9a91",
   "metadata": {},
   "outputs": [
    {
     "data": {
      "text/plain": [
       "0.9733333333333334"
      ]
     },
     "execution_count": 259,
     "metadata": {},
     "output_type": "execute_result"
    }
   ],
   "source": [
    "#accuracy\n",
    "\n",
    "model.score(X,Y)"
   ]
  },
  {
   "cell_type": "code",
   "execution_count": 269,
   "id": "9a318b2f",
   "metadata": {},
   "outputs": [
    {
     "data": {
      "text/plain": [
       "array([0, 0, 0, 0, 0, 0, 0, 0, 0, 0, 0, 0, 0, 0, 0, 0, 0, 0, 0, 0, 0, 0,\n",
       "       0, 0, 0, 0, 0, 0, 0, 0, 0, 0, 0, 0, 0, 0, 0, 0, 0, 0, 0, 0, 0, 0,\n",
       "       0, 0, 0, 0, 0, 0, 1, 1, 1, 1, 1, 1, 1, 1, 1, 1, 1, 1, 1, 1, 1, 1,\n",
       "       1, 1, 1, 1, 2, 1, 1, 1, 1, 1, 1, 2, 1, 1, 1, 1, 1, 2, 1, 1, 1, 1,\n",
       "       1, 1, 1, 1, 1, 1, 1, 1, 1, 1, 1, 1, 2, 2, 2, 2, 2, 2, 1, 2, 2, 2,\n",
       "       2, 2, 2, 2, 2, 2, 2, 2, 2, 2, 2, 2, 2, 2, 2, 2, 2, 2, 2, 2, 2, 2,\n",
       "       2, 2, 2, 2, 2, 2, 2, 2, 2, 2, 2, 2, 2, 2, 2, 2, 2, 2], dtype=int64)"
      ]
     },
     "execution_count": 269,
     "metadata": {},
     "output_type": "execute_result"
    }
   ],
   "source": [
    "# make prediction for all 150 species in dataset\n",
    "\n",
    "expected = Y\n",
    "predicted = model.predict(X)\n",
    "predicted"
   ]
  },
  {
   "cell_type": "code",
   "execution_count": 262,
   "id": "3313335b",
   "metadata": {},
   "outputs": [],
   "source": [
    "# summarize the fit of the model\n",
    "\n",
    "from sklearn import metrics"
   ]
  },
  {
   "cell_type": "code",
   "execution_count": 263,
   "id": "44711d0b",
   "metadata": {},
   "outputs": [
    {
     "name": "stdout",
     "output_type": "stream",
     "text": [
      "              precision    recall  f1-score   support\n",
      "\n",
      "           0       1.00      1.00      1.00        50\n",
      "           1       0.98      0.94      0.96        50\n",
      "           2       0.94      0.98      0.96        50\n",
      "\n",
      "    accuracy                           0.97       150\n",
      "   macro avg       0.97      0.97      0.97       150\n",
      "weighted avg       0.97      0.97      0.97       150\n",
      "\n"
     ]
    }
   ],
   "source": [
    "print(metrics.classification_report(expected, predicted))"
   ]
  },
  {
   "cell_type": "code",
   "execution_count": 270,
   "id": "09fdd500",
   "metadata": {},
   "outputs": [
    {
     "name": "stdout",
     "output_type": "stream",
     "text": [
      "[[50  0  0]\n",
      " [ 0 47  3]\n",
      " [ 0  1 49]]\n"
     ]
    }
   ],
   "source": [
    "# confusion metrics\n",
    "print(metrics.confusion_matrix(expected, predicted))"
   ]
  },
  {
   "cell_type": "code",
   "execution_count": null,
   "id": "3ba0e943",
   "metadata": {},
   "outputs": [],
   "source": []
  },
  {
   "cell_type": "code",
   "execution_count": null,
   "id": "8357fbf3",
   "metadata": {},
   "outputs": [],
   "source": []
  }
 ],
 "metadata": {
  "kernelspec": {
   "display_name": "Python 3 (ipykernel)",
   "language": "python",
   "name": "python3"
  },
  "language_info": {
   "codemirror_mode": {
    "name": "ipython",
    "version": 3
   },
   "file_extension": ".py",
   "mimetype": "text/x-python",
   "name": "python",
   "nbconvert_exporter": "python",
   "pygments_lexer": "ipython3",
   "version": "3.9.7"
  }
 },
 "nbformat": 4,
 "nbformat_minor": 5
}
